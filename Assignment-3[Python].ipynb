{
 "cells": [
  {
   "cell_type": "markdown",
   "metadata": {},
   "source": [
    "#### Q1. Why are functions advantageous to have in your programs?\n",
    "\n",
    "Ans:\n",
    "\n",
    "Using a 'def' statement for defining a function is the corner store of a majority of programs in Python. To group a set of statements, programmers use functions, and they can be run more than once in a program. They act like a pack of instructions that is invoked by a name.\n",
    "\n",
    "Functions reduce the need for duplicate code. This makes programs shorter, easier to read, and easier to update."
   ]
  },
  {
   "cell_type": "markdown",
   "metadata": {},
   "source": [
    "#### Q2. When does the code in a function run: when it's specified or when it's called?\n",
    "\n",
    "Ans:\n",
    "The code in a function executes when the function is called, not when the function is defined."
   ]
  },
  {
   "cell_type": "markdown",
   "metadata": {},
   "source": [
    "#### Q3. What statement creates a function?\n",
    "\n",
    "Ans: \n",
    "The def statement defines (i.e. creates) a function."
   ]
  },
  {
   "cell_type": "markdown",
   "metadata": {},
   "source": [
    "#### Q4. What is the difference between a function and a function call?\n",
    "\n",
    "Ans: \n",
    "\n",
    "Function : A function is a block of code which enhanced the reusability and modularity of a program. It means that block of code need not be written again. It runs when it is called.\n",
    "\n",
    "Function call : A function call means invoking or calling that function. Unless a function is called there is no use of that function."
   ]
  },
  {
   "cell_type": "markdown",
   "metadata": {},
   "source": [
    "#### Q5. How many global scopes are there in a Python program? How many local scopes?\n",
    "\n",
    "Ans:\n",
    "\n",
    "There is one global scope, and a local scope is created whenever a function is called."
   ]
  },
  {
   "cell_type": "markdown",
   "metadata": {},
   "source": [
    "#### Q6. What happens to variables in a local scope when the function call returns?\n",
    "\n",
    "Ans:\n",
    "When the execution of the function terminates (returns), the local variables are destroyed and all the variables in it are forgotten."
   ]
  },
  {
   "cell_type": "markdown",
   "metadata": {},
   "source": [
    "#### Q7. What is the concept of a return value? Is it possible to have a return value in an expression?\n",
    "\n",
    "Ans:\n",
    "\n",
    "A return statement is used to end the execution of the function call and “returns” the result (value of the expression following the return keyword) to the caller. The statements after the return statements are not executed. If the return statement is without any expression, then the special value None is returned.\n",
    "\n",
    "yes, a return value can be used as part of an expression."
   ]
  },
  {
   "cell_type": "markdown",
   "metadata": {},
   "source": [
    "#### Q8. If a function does not have a return statement, what is the return value of a call to that function?\n",
    "\n",
    "Ans:\n",
    "If there is no return statement for a function, its return value is None.\n"
   ]
  },
  {
   "cell_type": "markdown",
   "metadata": {},
   "source": [
    "#### Q9. How do you make a function variable refer to the global variable?\n",
    "\n",
    "Ans:\n",
    "If we want to refer to the global variable in a function, you can use the global keyword to declare which variables are global."
   ]
  },
  {
   "cell_type": "markdown",
   "metadata": {},
   "source": [
    "#### Q10. What is the data type of None?\n",
    "\n",
    "Ans:\n",
    "The None keyword is used to define a null value, or no value at all. None is not the same as 0, False, or an empty string. None is a data type of its own (NoneType) and only None can be None."
   ]
  },
  {
   "cell_type": "markdown",
   "metadata": {},
   "source": [
    "#### Q11. What does the sentence import areallyourpetsnamederic do?\n",
    "\n",
    "Ans:\n",
    "That import statement imports a module named areallyourpetsnamederic."
   ]
  },
  {
   "cell_type": "markdown",
   "metadata": {},
   "source": [
    "#### Q12. If you had a bacon() feature in a spam module, what would you call it after importing spam?\n",
    "\n",
    "Ans:\n",
    "\n",
    "spam.bacon()"
   ]
  },
  {
   "cell_type": "markdown",
   "metadata": {},
   "source": [
    "#### Q13. What can you do to save a programme from crashing if it encounters an error?\n",
    "\n",
    "Ans:\n",
    "Error handling can be used to notify the user of why the error occurred and gracefully exit the process that caused the error (i.e. Try clause)"
   ]
  },
  {
   "cell_type": "markdown",
   "metadata": {},
   "source": [
    "#### Q14. What is the purpose of the try clause? What is the purpose of the except clause?\n",
    "\n",
    "Ans:\n",
    "The try block allows you to test a block of code for errors. The except block enables you to handle the error with a user-defined response"
   ]
  }
 ],
 "metadata": {
  "kernelspec": {
   "display_name": "Python 3",
   "language": "python",
   "name": "python3"
  },
  "language_info": {
   "codemirror_mode": {
    "name": "ipython",
    "version": 3
   },
   "file_extension": ".py",
   "mimetype": "text/x-python",
   "name": "python",
   "nbconvert_exporter": "python",
   "pygments_lexer": "ipython3",
   "version": "3.8.5"
  }
 },
 "nbformat": 4,
 "nbformat_minor": 4
}
