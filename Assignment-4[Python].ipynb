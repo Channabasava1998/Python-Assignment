{
 "cells": [
  {
   "cell_type": "markdown",
   "metadata": {},
   "source": [
    "#### Q1. What exactly is []?\n",
    "\n",
    "Ans:\n",
    "\n",
    "[] is an empty list which means the list containing no element. list are created using square bracket where we can add, remove and change the elements."
   ]
  },
  {
   "cell_type": "markdown",
   "metadata": {},
   "source": [
    "#### Q2. In a list of values stored in a variable called spam, how would you assign the value 'hello' as the third value? (Assume [2, 4, 6, 8, 10] are in spam.) \n",
    "\n",
    "Ans:\n",
    "\n",
    "spam=[2,4,6,8]\n",
    "\n",
    "spam[2]='hello'\n",
    "\n",
    "here, the third value in a list is at index 2 because the first index is 0"
   ]
  },
  {
   "cell_type": "markdown",
   "metadata": {},
   "source": [
    "#### Let's pretend the spam includes the list ['a', 'b', 'c', 'd'] for the next three queries."
   ]
  },
  {
   "cell_type": "markdown",
   "metadata": {},
   "source": [
    "#### Q3. What is the value of spam[int(int('3' * 2) / 11)]?\n",
    "\n",
    "Ans:\n",
    "\n",
    "'d'\n",
    "\n",
    " '3' * 2 is the string '33', which is passed to int() before being divided by 11. This eventually evaluates to 3. Expressions can be used wherever values are used."
   ]
  },
  {
   "cell_type": "markdown",
   "metadata": {},
   "source": [
    "#### Q4. What is the value of spam[-1]?\n",
    "\n",
    "Ans:\n",
    "'d'\n",
    "\n",
    "Negetive index starts from the end"
   ]
  },
  {
   "cell_type": "markdown",
   "metadata": {},
   "source": [
    "#### Q5. What is the value of spam[:2]?\n",
    "\n",
    "Ans: ['a', 'b']"
   ]
  },
  {
   "cell_type": "markdown",
   "metadata": {},
   "source": [
    " #### Let's pretend bacon has the list [3.14, 'cat', 11, 'cat', True] for the next three questions."
   ]
  },
  {
   "cell_type": "markdown",
   "metadata": {},
   "source": [
    "#### Q6. What is the value of bacon.index('cat')?\n",
    "\n",
    "Ans: 1"
   ]
  },
  {
   "cell_type": "markdown",
   "metadata": {},
   "source": [
    "#### Q7. How does bacon.append(99) change the look of the list value in bacon?\n",
    "\n",
    "Ans: [3.14, 'cat', 11, 'cat', True, 99]"
   ]
  },
  {
   "cell_type": "markdown",
   "metadata": {},
   "source": [
    "#### Q8. How does bacon.remove('cat') change the look of the list in bacon?\n",
    "\n",
    "Ans: [3.14, 11, 'cat', True, 99]"
   ]
  },
  {
   "cell_type": "markdown",
   "metadata": {},
   "source": [
    "#### Q9. What are the list concatenation and list replication operators?\n",
    "\n",
    "Ans: \n",
    "\n",
    "Operator use for list concatenation is +\n",
    "\n",
    "Operator use for list concatenation is *"
   ]
  },
  {
   "cell_type": "markdown",
   "metadata": {},
   "source": [
    "#### Q10. What is difference between the list methods append() and insert()?\n",
    "\n",
    "Ans:\n",
    "\n",
    "append() will add values only to the end of a list.\n",
    "\n",
    "insert() method can add values anywhere in the list."
   ]
  },
  {
   "cell_type": "markdown",
   "metadata": {},
   "source": [
    "#### Q11. What are the two methods for removing items from a list?\n",
    "\n",
    "Ans: \n",
    "\n",
    "remove()  It helps to remove the very first given element matching from the list.\n",
    "\n",
    "The pop() method removes an element from the list based on the index given.\n",
    "\n",
    "The clear() method will remove all the elements present in the list.\n",
    "\n",
    "The del keyword can also delete the list completely."
   ]
  },
  {
   "cell_type": "markdown",
   "metadata": {},
   "source": [
    "#### Q12. Describe how list values and string values are identical.\n",
    "\n",
    "Ans:\n",
    "\n",
    "Both lists and strings can be passed to len(), have indexes and slices, be used in for loops, be concatenated or replicated, and be used with the in and not in operators.\n",
    "\n",
    "The differences between them are, Lists are mutable but Strings are immutable and elements of a list can be of different types whereas a String only contains characters that are all of String type."
   ]
  },
  {
   "cell_type": "markdown",
   "metadata": {},
   "source": [
    "#### Q13. What's the difference between tuples and lists?\n",
    "\n",
    "Ans:\n",
    "\n",
    "Lists are mutable; they can have values added, removed, or changed. lists use the square brackets, [  ].\n",
    "\n",
    "Tuples are immutable; they cannot be changed at all. Also, tuples are written using parentheses, (  ). "
   ]
  },
  {
   "cell_type": "markdown",
   "metadata": {},
   "source": [
    "#### Q14. How do you type a tuple value that only contains the integer 42?\n",
    "\n",
    "Ans:\n",
    "\n",
    "(42,)\n",
    "\n",
    "comma is mandatory. if we donot put comma after 49 then type(49) will be int."
   ]
  },
  {
   "cell_type": "markdown",
   "metadata": {},
   "source": [
    "#### Q15. How do you get a list value's tuple form? How do you get a tuple value's list form?\n",
    "\n",
    "Ans: \n",
    "\n",
    "The tuple() and list() functions, respectively"
   ]
  },
  {
   "cell_type": "markdown",
   "metadata": {},
   "source": [
    "#### Q16. Variables that \"contain\" list values are not necessarily lists themselves. Instead, what do they contain?\n",
    "\n",
    "Ans:\n",
    "\n",
    "They contain references to list values."
   ]
  },
  {
   "cell_type": "markdown",
   "metadata": {},
   "source": [
    "#### Q17. How do you distinguish between copy.copy() and copy.deepcopy()?\n",
    "\n",
    "Ans:\n",
    "\n",
    "The copy.copy() function will do a shallow copy of a list, while the copy.deepcopy() function will do a deep copy of a list. That is, only copy.deepcopy() will duplicate any lists inside the list."
   ]
  }
 ],
 "metadata": {
  "kernelspec": {
   "display_name": "Python 3",
   "language": "python",
   "name": "python3"
  },
  "language_info": {
   "codemirror_mode": {
    "name": "ipython",
    "version": 3
   },
   "file_extension": ".py",
   "mimetype": "text/x-python",
   "name": "python",
   "nbconvert_exporter": "python",
   "pygments_lexer": "ipython3",
   "version": "3.8.5"
  }
 },
 "nbformat": 4,
 "nbformat_minor": 4
}
