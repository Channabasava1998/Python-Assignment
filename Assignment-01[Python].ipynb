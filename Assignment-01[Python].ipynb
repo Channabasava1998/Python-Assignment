{
 "cells": [
  {
   "cell_type": "markdown",
   "metadata": {},
   "source": [
    "1. In the below elements which of them are values or an expression? eg:- values can be integer or string and expressions will be mathematical operators.\n",
    "\n",
    "Answers: \n",
    "\n",
    " *---- is an expression\n",
    " \n",
    " 'hello'.... is a value\n",
    " \n",
    " -87.8..... is a value\n",
    " \n",
    " -.... is an expression\n",
    " \n",
    " / ....is an expression\n",
    " \n",
    " +.... is an expression\n",
    " \n",
    " 6 ....is a value"
   ]
  },
  {
   "cell_type": "markdown",
   "metadata": {},
   "source": [
    "2. What is the difference between string and variable?\n",
    "\n",
    "Answer:\n",
    "1. A Variable is a store of information, and a String is a type of information that we store in a Variable. \n",
    "2. A String is usually words, enclosed with ' ' or \"  \".\n",
    "3. variable is any alphabet or gropu of alphabet which work as temporary storage locations.\n",
    "4. string a class ....  reference datatype  ... it is used to represent text type data.\n",
    "5. A variable name can only contain alpha-numeric characters and underscores (A-z, 0-9, and _ ).\n"
   ]
  },
  {
   "cell_type": "markdown",
   "metadata": {},
   "source": [
    "3. Describe three different data types.\n",
    "\n",
    "Answer:\n",
    "    \n",
    "1.Numeric : numeric data type represent the data which has numeric value. Numeric value can be integer, floating number or even complex numbers\n",
    "\n",
    "INTEGER: is represented by int class. It contains positive or negative whole numbers (without fraction or decimal). Ex. 22,56\n",
    "\n",
    "FLOAT: is represented by float class. It is a real number with floating point representation. It is specified by a decimal point. Ex. 56.3\n",
    "\n",
    "COMPLEX: is represented by complex class. It is specified as (real part) + (imaginary part)j. Ex. 5+6j\n",
    "\n",
    "\n",
    "2.Sequence Type: is the ordered collection of similar or different data types.\n",
    "\n",
    "String:is a collection of one or more characters put in a single quote, double-quote or triple quote. Ex. 'Channu'\n",
    "\n",
    "List:is an ordered collection of data which is changeable, and allow duplicate values. list is written in square bracket Ex. l=[1,5,6,4,8]\n",
    "\n",
    "Tuple:is also an ordered collection of Python objects. The only difference between tuple and list is that tuples are immutable i.e. tuples cannot be modified after it is created. in tiple we use curve bracket  Ex. t=(1,2,3,4,5,2,6)\n",
    "    \n",
    "\n",
    "3.Boolean: Booleans represent one of two values: True or False.\n",
    "\n",
    "\n",
    "4.Set: is an unordered collection of data type that is iterable, mutable and has no duplicate elements. The order of elements in a set is undefined though it may consist of various elements. Ex. s={1,2,3,5,'crv'}\n",
    "\n",
    "\n",
    "5.Dictionary: is an unordered collection of data values, used to store data values like a map, which unlike other Data Types that hold only single value as an element, Dictionary holds key:value pair. Key-value is provided in the dictionary to make it more optimized. Each key-value pair in a Dictionary is separated by a colon :, whereas each key is separated by a ‘comma’. Ex. Dict = {'Name': 'Geeks', 1: [1, 2, 3, 4]} "
   ]
  },
  {
   "cell_type": "markdown",
   "metadata": {},
   "source": [
    "4. What is an expression made up of? What do all expressions do?\n",
    "\n",
    "Answer:\n",
    "\n",
    "An expression is a combination of values, variables, operators, and calls to functions.\n",
    "\n",
    "1. Constant Expressions: These are the expressions that have constant values only.\n",
    "2. Arithmetic Expressions: An arithmetic expression is a combination of numeric values, operators, and sometimes parenthesis.The operators used in these expressions are arithmetic operators like addition, subtraction,multiplication, division, modulus etc.\n",
    "3. Integral Expressions: These are the kind of expressions that produce only integer results after all computations and type conversions.\n",
    "4. Floating Expressions: These are the kind of expressions which produce floating point numbers as result after all computations and type conversions.\n",
    "5. Relational Expressions: In these types of expressions, arithmetic expressions are written on both sides of relational operator (> , < , >= , <=). Those arithmetic expressions are evaluated first, and then compared as per relational operator and produce a boolean output in the end. These expressions are also called Boolean expressions.\n",
    "6. Logical Expressions: These are kinds of expressions that result in either True or False. It basically specifies one or more conditions.\n"
   ]
  },
  {
   "cell_type": "markdown",
   "metadata": {},
   "source": [
    "5. This assignment statements, like spam = 10. What is the difference between an expression and a statement?\n",
    "Answer:\n",
    "\n",
    "An Expression is a sequence or combination of values, variables, operators and function calls that always produces or returns a result value.\n",
    "Example: x = 5, y = 3, z = x + y = 8.\n",
    "A value or a variable all by itself is also considered an expression, because these always evaluates to itself.\n",
    "\n",
    "Any Instruction that a python interpreter can execute (carry out) is called a Statement.\n",
    "An Instruction is an order/command given to a computer processor by a computer program to perform some mathematical or logical manipulations (calculations).\n",
    "Example: spam=10"
   ]
  },
  {
   "cell_type": "markdown",
   "metadata": {},
   "source": [
    "6. After running the following code, what does the variable bacon contain?\n",
    "bacon = 22\n",
    "bacon + 1\n",
    "\n",
    "Answer: 23"
   ]
  },
  {
   "cell_type": "markdown",
   "metadata": {},
   "source": [
    "7. What should the values of the following two terms be?\n",
    "\n",
    "Answer:\n",
    "\n",
    "'spam' + 'spamspam' : 'spamspamspam'\n",
    "\n",
    "'spam' * 3 : 'spamspamspam'"
   ]
  },
  {
   "cell_type": "markdown",
   "metadata": {},
   "source": [
    "8. Why is eggs a valid variable name while 100 is invalid?\n",
    "\n",
    "Answer:\n",
    "    Eggs can be a variable name but not 100, \n",
    "    because 100 is an integer so it cannot be the variable name and also it cause an error."
   ]
  },
  {
   "cell_type": "markdown",
   "metadata": {},
   "source": [
    "9. What three functions can be used to get the integer, floating-point number, or string version of a value?\n",
    "\n",
    "Answer:\n",
    " int() , float() , and str( ) functions will evaluate to the integer, floating-point number, and string versions of the value passed to them."
   ]
  },
  {
   "cell_type": "markdown",
   "metadata": {},
   "source": [
    "10. Why does this expression cause an error? How can you fix it?\n",
    "'I have eaten ' + 99 + ' burritos.'\n",
    "\n",
    "Answer:\n",
    "it is not possible to concatenate string with integer. it will give an error. \n",
    "it can be possible to concatenate only if the integer is converted into string which is written as below\n",
    "\n",
    "'I have eaten ' + '99' + ' burritos.'"
   ]
  }
 ],
 "metadata": {
  "kernelspec": {
   "display_name": "Python 3",
   "language": "python",
   "name": "python3"
  },
  "language_info": {
   "codemirror_mode": {
    "name": "ipython",
    "version": 3
   },
   "file_extension": ".py",
   "mimetype": "text/x-python",
   "name": "python",
   "nbconvert_exporter": "python",
   "pygments_lexer": "ipython3",
   "version": "3.8.5"
  }
 },
 "nbformat": 4,
 "nbformat_minor": 4
}
