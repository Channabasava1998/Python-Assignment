{
 "cells": [
  {
   "cell_type": "markdown",
   "metadata": {},
   "source": [
    "#### 1. Add the current date to the text file today.txt as a string."
   ]
  },
  {
   "cell_type": "code",
   "execution_count": 5,
   "metadata": {},
   "outputs": [
    {
     "name": "stdout",
     "output_type": "stream",
     "text": [
      "30-04-2022\n"
     ]
    }
   ],
   "source": [
    "import datetime\n",
    "# Code to Add current date to the today.txt file\n",
    "file = open('today.txt','w')\n",
    "file.write(datetime.datetime.now().strftime(\"%d-%m-%Y\"))\n",
    "file.close()\n",
    "# Code to Read current date from today.txt file\n",
    "file = open('today.txt','r')\n",
    "print(file.read())\n",
    "file.close()"
   ]
  },
  {
   "cell_type": "markdown",
   "metadata": {},
   "source": [
    "#### 2. Read the text file today.txt into the string today_string"
   ]
  },
  {
   "cell_type": "code",
   "execution_count": 6,
   "metadata": {},
   "outputs": [
    {
     "name": "stdout",
     "output_type": "stream",
     "text": [
      "30-04-2022\n"
     ]
    }
   ],
   "source": [
    "file = open('today.txt','r')\n",
    "today_string = file.read()\n",
    "print(today_string)"
   ]
  },
  {
   "cell_type": "markdown",
   "metadata": {},
   "source": [
    "#### 3. Parse the date from today_string."
   ]
  },
  {
   "cell_type": "code",
   "execution_count": 8,
   "metadata": {},
   "outputs": [
    {
     "name": "stdout",
     "output_type": "stream",
     "text": [
      "2022-04-30 00:00:00\n"
     ]
    }
   ],
   "source": [
    "from datetime import datetime\n",
    "parsed_data = datetime.strptime(today_string, '%d-%m-%Y')\n",
    "print(parsed_data)"
   ]
  },
  {
   "cell_type": "markdown",
   "metadata": {},
   "source": [
    "#### 4. List the files in your current directory"
   ]
  },
  {
   "cell_type": "code",
   "execution_count": 10,
   "metadata": {},
   "outputs": [
    {
     "name": "stdout",
     "output_type": "stream",
     "text": [
      "application_log.txt\n",
      "Assignment-01[Python].ipynb\n",
      "Assignment-05[Python].ipynb\n",
      "Assignment-06[Python].ipynb\n",
      "Assignment-07[Python].ipynb\n",
      "Assignment-08[Python].ipynb\n",
      "Assignment-09[Python].ipynb\n",
      "Assignment-10[Python].ipynb\n",
      "Assignment-11[Python].ipynb\n",
      "Assignment-12[Python].ipynb\n",
      "Assignment-13[Python].ipynb\n",
      "Assignment-14[Python].ipynb\n",
      "Assignment-15[Python].ipynb\n",
      "Assignment-16[Python].ipynb\n",
      "Assignment-17[Python].ipynb\n",
      "Assignment-18[Python].ipynb\n",
      "Assignment-19[Python].ipynb\n",
      "Assignment-20[Python].ipynb\n",
      "Assignment-21[Python].ipynb\n",
      "Assignment-2[Python].ipynb\n",
      "Assignment-3[Python].ipynb\n",
      "Assignment-4[Python].ipynb\n",
      "today.txt\n",
      "university_records.csv\n",
      "Untitled.ipynb\n",
      "Assignment-05[Python]-checkpoint.ipynb\n",
      "Assignment-06[Python]-checkpoint.ipynb\n",
      "Assignment-07[Python]-checkpoint.ipynb\n",
      "Assignment-08[Python]-checkpoint.ipynb\n",
      "Assignment-09[Python]-checkpoint.ipynb\n",
      "Assignment-10[Python]-checkpoint.ipynb\n",
      "Assignment-11[Python]-checkpoint.ipynb\n",
      "Assignment-12[Python]-checkpoint.ipynb\n",
      "Assignment-13[Python]-checkpoint.ipynb\n",
      "Assignment-14[Python]-checkpoint.ipynb\n",
      "Assignment-15[Python]-checkpoint.ipynb\n",
      "Assignment-16[Python]-checkpoint.ipynb\n",
      "Assignment-17[Python]-checkpoint.ipynb\n",
      "Assignment-18[Python]-checkpoint.ipynb\n",
      "Assignment-19[Python]-checkpoint.ipynb\n",
      "Assignment-20[Python]-checkpoint.ipynb\n"
     ]
    }
   ],
   "source": [
    "import os\n",
    "for folders, subfolders, files in os.walk(os.getcwd()):\n",
    "    for file in files:\n",
    "        print(file)"
   ]
  },
  {
   "cell_type": "markdown",
   "metadata": {},
   "source": [
    "#### 5. Create a list of all of the files in your parent directory (minimum five files should be available)."
   ]
  },
  {
   "cell_type": "code",
   "execution_count": 11,
   "metadata": {},
   "outputs": [
    {
     "data": {
      "text/plain": [
       "['.ipynb_checkpoints',\n",
       " 'application_log.txt',\n",
       " 'Assignment-01[Python].ipynb',\n",
       " 'Assignment-05[Python].ipynb',\n",
       " 'Assignment-06[Python].ipynb',\n",
       " 'Assignment-07[Python].ipynb',\n",
       " 'Assignment-08[Python].ipynb',\n",
       " 'Assignment-09[Python].ipynb',\n",
       " 'Assignment-10[Python].ipynb',\n",
       " 'Assignment-11[Python].ipynb',\n",
       " 'Assignment-12[Python].ipynb',\n",
       " 'Assignment-13[Python].ipynb',\n",
       " 'Assignment-14[Python].ipynb',\n",
       " 'Assignment-15[Python].ipynb',\n",
       " 'Assignment-16[Python].ipynb',\n",
       " 'Assignment-17[Python].ipynb',\n",
       " 'Assignment-18[Python].ipynb',\n",
       " 'Assignment-19[Python].ipynb',\n",
       " 'Assignment-20[Python].ipynb',\n",
       " 'Assignment-21[Python].ipynb',\n",
       " 'Assignment-2[Python].ipynb',\n",
       " 'Assignment-3[Python].ipynb',\n",
       " 'Assignment-4[Python].ipynb',\n",
       " 'today.txt',\n",
       " 'university_records.csv',\n",
       " 'Untitled.ipynb']"
      ]
     },
     "execution_count": 11,
     "metadata": {},
     "output_type": "execute_result"
    }
   ],
   "source": [
    "import os \n",
    "os.listdir()"
   ]
  },
  {
   "cell_type": "markdown",
   "metadata": {},
   "source": [
    "#### 6. Use multiprocessing to create three separate processes. Make each one wait a random number of seconds between one and five, print the current time, and then exit."
   ]
  },
  {
   "cell_type": "code",
   "execution_count": 12,
   "metadata": {},
   "outputs": [],
   "source": [
    "import multiprocessing\n",
    "import time \n",
    "import random\n",
    "import datetime\n",
    "\n",
    "def procOne():\n",
    "    print(f'Proc_one_Starttime -> {datetime.datetime.now()}')\n",
    "    time.sleep(random.randint(1,5))\n",
    "    print(f'Proc_one_Endtime -> {datetime.datetime.now()}')\n",
    "    \n",
    "def procTwo():\n",
    "    print(f'Proc_two_Starttime -> {datetime.datetime.now()}')\n",
    "    time.sleep(random.randint(1,5))\n",
    "    print(f'Proc_two_Endtime -> {datetime.datetime.now()}')\n",
    "\n",
    "def procThree():\n",
    "    print(f'Proc_two_Starttime -> {datetime.datetime.now()}')\n",
    "    time.sleep(random.randint(1,5))\n",
    "    print(f'Proc_two_Endtime -> {datetime.datetime.now()}')\n",
    "    \n",
    "if __name__ == \"__main__\":    \n",
    "    p1 = multiprocessing.Process(target=procOne)\n",
    "    p2 = multiprocessing.Process(target=procTwo)\n",
    "    p3 = multiprocessing.Process(target=procThree)\n",
    "\n",
    "    p1.start()\n",
    "    p2.start()\n",
    "    p3.start()\n",
    "\n",
    "    p1.join()\n",
    "    p2.join()\n",
    "    p3.join()"
   ]
  },
  {
   "cell_type": "markdown",
   "metadata": {},
   "source": [
    "#### 7. Create a date object of your day of birth."
   ]
  },
  {
   "cell_type": "code",
   "execution_count": 14,
   "metadata": {},
   "outputs": [
    {
     "name": "stdout",
     "output_type": "stream",
     "text": [
      "1998-01-23 00:00:00 <class 'datetime.datetime'>\n"
     ]
    }
   ],
   "source": [
    "from datetime import datetime\n",
    "my_dob = datetime.strptime('23/01/1998','%d/%m/%Y')\n",
    "print(my_dob, type(my_dob))"
   ]
  },
  {
   "cell_type": "markdown",
   "metadata": {},
   "source": [
    "#### 8. What day of the week was your day of birth?"
   ]
  },
  {
   "cell_type": "code",
   "execution_count": 15,
   "metadata": {},
   "outputs": [
    {
     "data": {
      "text/plain": [
       "'Friday'"
      ]
     },
     "execution_count": 15,
     "metadata": {},
     "output_type": "execute_result"
    }
   ],
   "source": [
    "from datetime import datetime\n",
    "my_dob = datetime(1998,1,23)\n",
    "my_dob.strftime(\"%A\")"
   ]
  },
  {
   "cell_type": "markdown",
   "metadata": {},
   "source": [
    "#### 9. When will you be (or when were you) 10,000 days old?"
   ]
  },
  {
   "cell_type": "code",
   "execution_count": 16,
   "metadata": {},
   "outputs": [
    {
     "data": {
      "text/plain": [
       "datetime.datetime(1970, 9, 7, 0, 0)"
      ]
     },
     "execution_count": 16,
     "metadata": {},
     "output_type": "execute_result"
    }
   ],
   "source": [
    "from datetime import datetime, timedelta\n",
    "my_dob = datetime.strptime(\"23/01/1998\",'%d/%m/%Y')\n",
    "future_date = my_dob-timedelta(10000)\n",
    "future_date"
   ]
  },
  {
   "cell_type": "code",
   "execution_count": null,
   "metadata": {},
   "outputs": [],
   "source": []
  }
 ],
 "metadata": {
  "kernelspec": {
   "display_name": "Python 3",
   "language": "python",
   "name": "python3"
  },
  "language_info": {
   "codemirror_mode": {
    "name": "ipython",
    "version": 3
   },
   "file_extension": ".py",
   "mimetype": "text/x-python",
   "name": "python",
   "nbconvert_exporter": "python",
   "pygments_lexer": "ipython3",
   "version": "3.8.5"
  }
 },
 "nbformat": 4,
 "nbformat_minor": 5
}
