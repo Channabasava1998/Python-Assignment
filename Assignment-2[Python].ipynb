{
 "cells": [
  {
   "cell_type": "markdown",
   "metadata": {},
   "source": [
    "Q1.What are the two values of the Boolean data type? How do you write them?\n",
    "\n",
    "Answer:\n",
    "    Two values of Boolean data types are - True and False.\n",
    "    We can evaluate any expression in Python, and get one of two answers.\n",
    "    When we compare two values, the expression is evaluated and Python returns the Boolean answer.\n",
    "    Boolean values in Python can be compared using comparison operations, and Boolean logic can be formulated with the use of logic operations."
   ]
  },
  {
   "cell_type": "markdown",
   "metadata": {},
   "source": [
    "Q2. What are the three different types of Boolean operators?\n",
    "\n",
    "Answer:\n",
    "    There are three basic Boolean operaters: AND, OR and NOT.    "
   ]
  },
  {
   "cell_type": "markdown",
   "metadata": {},
   "source": [
    "Q3. Make a list of each Boolean operator's truth tables (i.e. every possible combination of Boolean values for the operator and what it evaluate ).\n",
    "\n",
    "Answer:\n",
    "Logical AND operator - Logical operator returns True if both the operands are True else it returns False.\n",
    "\n",
    "True and True = True,\n",
    "\n",
    "True and False = False,\n",
    "\n",
    "False and True = False,\n",
    "\n",
    "False and False = False.\n",
    "\n",
    "\n",
    "\n",
    "Logical OR operator - \n",
    "\n",
    "True or True = True,\n",
    "\n",
    "True or False = True,\n",
    "\n",
    "False or True = True,\n",
    "\n",
    "False or False = False.\n",
    "\n",
    "\n",
    "\n",
    "Logical NOT operator - \n",
    "\n",
    "not True = False,\n",
    "\n",
    "not False = True."
   ]
  },
  {
   "cell_type": "markdown",
   "metadata": {},
   "source": [
    "Q4. What are the values of the following expressions?\n",
    "\n",
    "Answer:\n",
    "\n",
    "(5 > 4) and (3 == 5) ------------------False\n",
    "\n",
    "not (5 > 4)----------------------------False\n",
    "\n",
    "(5 > 4) or (3 == 5)--------------------True\n",
    "\n",
    "not ((5 > 4) or (3 == 5))--------------False\n",
    "\n",
    "(True and True) and (True == False)----False\n",
    "\n",
    "(not False) or (not True)--------------True"
   ]
  },
  {
   "cell_type": "markdown",
   "metadata": {},
   "source": [
    "Q5. What are the six comparison operators?\n",
    "\n",
    "Answer:\n",
    "\n",
    "Six main comparison operators are\n",
    "\n",
    "equal to, \n",
    "\n",
    "not equal to, \n",
    "\n",
    "greater than, \n",
    "\n",
    "greater than or equal to, \n",
    "\n",
    "less than, and \n",
    "\n",
    "less than or equal to."
   ]
  },
  {
   "cell_type": "markdown",
   "metadata": {},
   "source": [
    "Q6. How do you tell the difference between the equal to and assignment operators?Describe a condition and when you would use one.\n",
    "\n",
    "Answer:\n",
    "    \n",
    "= assigns a value to a variable whereas, == evaluates 2 values.\n",
    "\n",
    "A condition is a Boolean expression and would be used in if, and while loops."
   ]
  },
  {
   "cell_type": "markdown",
   "metadata": {},
   "source": [
    "Q7. Identify the three blocks in this code:\n",
    "\n",
    "spam = 0\n",
    "\n",
    "if spam == 10:\n",
    "    \n",
    "    print('eggs')\n",
    "\n",
    "if spam > 5:\n",
    "    \n",
    "    print('bacon')\n",
    "\n",
    "else:\n",
    "    \n",
    "    print('ham')\n",
    "    \n",
    "    print('spam')\n",
    "    \n",
    "    print('spam')"
   ]
  },
  {
   "cell_type": "markdown",
   "metadata": {},
   "source": [
    "Q8. Write code that prints Hello if 1 is stored in spam, prints Howdy if 2 is stored in spam, and prints Greetings! if anything else is stored in spam.\n",
    "\n",
    "spam=int(input())\n",
    "\n",
    "if spam==1:\n",
    "    \n",
    "    print('Hello')\n",
    "\n",
    "elif spam==2:\n",
    "    \n",
    "    print('Howdy')\n",
    "\n",
    "else:\n",
    "    \n",
    "    print('Greetings')"
   ]
  },
  {
   "cell_type": "markdown",
   "metadata": {},
   "source": [
    "Q9.If your programme is stuck in an endless loop, what keys you’ll press?\n",
    "\n",
    "Answer:\n",
    "An infinite loop is a loop that runs indefinitely and it only stops with external intervention or when a break statement is found. You can stop an infinite loop with CTRL + C"
   ]
  },
  {
   "cell_type": "markdown",
   "metadata": {},
   "source": [
    "Q10. How can you tell the difference between break and continue?\n",
    "\n",
    "Answer:\n",
    "    \n",
    "break - It eliminates the execution of remaining iteration of loop, ‘break’ will resume control of program to the end of loop enclosing that ‘break’, It early terminates the loop, The ‘break’ stop the continuation of the loop, It used with the ‘switch’, ‘label’.\n",
    "\n",
    "continue - It will terminate only the current iteration of loop, The ‘continue’ will resume the control of the program to next iteration of that loop enclosing ‘continue', It causes the early execution of the next iteration, The ‘continue’ does not stop the continuation of loop and it stops the current, Cannot be executed with switch and the labels."
   ]
  },
  {
   "cell_type": "markdown",
   "metadata": {},
   "source": [
    "Q11. In a for loop, what is the difference between range(10), range(0, 10), and range(0, 10, 1)?\n",
    "\n",
    "Answer: As there is no difference between range(10), range(0,10) and range(0,10,1) in for loop\n",
    "\n",
    "range(10) defines range upto 10\n",
    "\n",
    "range(0, 10) defines the range as between 0 and 10.\n",
    "\n",
    "range(0, 10, 1) defines the range as between 0 and 10 with jump of 1."
   ]
  },
  {
   "cell_type": "markdown",
   "metadata": {},
   "source": [
    "Q12. Write a short program that prints the numbers 1 to 10 using a for loop. Then write an equivalent program that prints the numbers 1 to 10 using a while loop.\n",
    "\n",
    "Answer:\n",
    "\n",
    "Using for loop:\n",
    "\n",
    "a =range(10)\n",
    "\n",
    "for i in a:\n",
    "    \n",
    "    print(i+1)\n",
    "    \n",
    "\n",
    "Using while loop\n",
    "\n",
    "i = 1\n",
    "\n",
    "while(i<=10):\n",
    "    \n",
    "    print(i)\n",
    "    \n",
    "    i = i+1"
   ]
  },
  {
   "cell_type": "markdown",
   "metadata": {},
   "source": [
    "Q13. If you had a function named bacon() inside a module named spam, how would you call it after importing spam?\n",
    "\n",
    "Answer:\n",
    "    \n",
    "import spam\n",
    "\n",
    "spam.bacon()"
   ]
  }
 ],
 "metadata": {
  "kernelspec": {
   "display_name": "Python 3",
   "language": "python",
   "name": "python3"
  },
  "language_info": {
   "codemirror_mode": {
    "name": "ipython",
    "version": 3
   },
   "file_extension": ".py",
   "mimetype": "text/x-python",
   "name": "python",
   "nbconvert_exporter": "python",
   "pygments_lexer": "ipython3",
   "version": "3.8.5"
  }
 },
 "nbformat": 4,
 "nbformat_minor": 4
}
